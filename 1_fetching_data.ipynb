{
 "cells": [
  {
   "cell_type": "markdown",
   "metadata": {},
   "source": [
    "#### Creating a connection to a PostgreSQL database with Python via psycopg2\n"
   ]
  },
  {
   "cell_type": "code",
   "execution_count": 4,
   "metadata": {},
   "outputs": [
    {
     "data": {
      "text/plain": [
       "Index(['date', 'price', 'id', 'bedrooms', 'bathrooms', 'sqft_living',\n",
       "       'sqft_lot', 'floors', 'waterfront', 'view', 'condition', 'grade',\n",
       "       'sqft_above', 'sqft_basement', 'yr_built', 'yr_renovated', 'zipcode',\n",
       "       'lat', 'long', 'sqft_living15', 'sqft_lot15'],\n",
       "      dtype='object')"
      ]
     },
     "execution_count": 4,
     "metadata": {},
     "output_type": "execute_result"
    }
   ],
   "source": [
    "import pandas as pd\n",
    "import os\n",
    "from dotenv import load_dotenv\n",
    "\n",
    "from sqlalchemy import create_engine\n",
    "\n",
    "# READ database user password host and port from .env\n",
    "load_dotenv()\n",
    "\n",
    "DATABASE = os.getenv('DATABASE')\n",
    "USER_DB = os.getenv('USER_DB')\n",
    "PASSWORD = os.getenv('PASSWORD')\n",
    "HOST = os.getenv('HOST')\n",
    "PORT = os.getenv('PORT')\n",
    "\n",
    "#DB_STRING = os.getenv('DB_STRING')\n",
    "\n",
    "DB_STRING = f\"postgresql://{USER_DB}:{PASSWORD}@{HOST}:{PORT}/{DATABASE}\"\n",
    "db = create_engine(DB_STRING)\n",
    "\n",
    "#import the data to a pandas dataframe\n",
    "query_string = \"\"\"SELECT \n",
    "    kchs.\"date\" ,kchs.price , \n",
    "    kchd.*\n",
    "FROM eda.king_county_house_sales kchs \n",
    "JOIN eda.king_county_house_details kchd  \n",
    "ON kchd.id = kchs.house_id \"\"\"\n",
    "df_sqlalchemy = pd.read_sql(query_string, db)\n",
    "df_sqlalchemy.head()\n",
    "\n",
    "df_sqlalchemy.columns\n"
   ]
  },
  {
   "cell_type": "code",
   "execution_count": 6,
   "metadata": {},
   "outputs": [
    {
     "data": {
      "text/plain": [
       "(21597, 21)"
      ]
     },
     "execution_count": 6,
     "metadata": {},
     "output_type": "execute_result"
    }
   ],
   "source": [
    "df_sqlalchemy.columns\n",
    "df_sqlalchemy.shape\n",
    "\n"
   ]
  },
  {
   "cell_type": "code",
   "execution_count": 11,
   "metadata": {},
   "outputs": [
    {
     "data": {
      "text/plain": [
       "15279    78000.0\n",
       "465      80000.0\n",
       "16184    81000.0\n",
       "8267     82000.0\n",
       "2139     82500.0\n",
       "Name: price, dtype: float64"
      ]
     },
     "execution_count": 11,
     "metadata": {},
     "output_type": "execute_result"
    }
   ],
   "source": [
    "#export the data to a csv-file\n",
    "df_sqlalchemy.to_csv('data/eda.csv',index=False)\n"
   ]
  }
 ],
 "metadata": {
  "kernelspec": {
   "display_name": ".venv",
   "language": "python",
   "name": "python3"
  },
  "language_info": {
   "codemirror_mode": {
    "name": "ipython",
    "version": 3
   },
   "file_extension": ".py",
   "mimetype": "text/x-python",
   "name": "python",
   "nbconvert_exporter": "python",
   "pygments_lexer": "ipython3",
   "version": "3.11.3"
  }
 },
 "nbformat": 4,
 "nbformat_minor": 2
}
